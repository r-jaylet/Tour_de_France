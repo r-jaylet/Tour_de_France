{
 "cells": [],
 "metadata": {
  "kernelspec": {
   "display_name": "Python 3",
   "language": "python",
   "name": "python3"
  },
  "language_info": {
   "codemirror_mode": {
    "name": "ipython",
    "version": 2
   },
   "file_extension": ".py",
   "mimetype": "text/x-python",
   "name": "python",
   "nbconvert_exporter": "python",
   "pygments_lexer": "ipython2",
   "version": "2.7.6"
  },
  "pycharm": {
   "stem_cell": {
    "cell_type": "raw",
    "source": [
     "import re\n",
     "import requests\n",
     "from bs4 import BeautifulSoup\n",
     "\n",
     "url = 'http://en.wikipedia.org/w/api.php?action=query&prop=revisions&rvprop=content&rvsection=0&titles=Albert_Einstein&format=xml'\n",
     "\n",
     "res = requests.get(url)\n",
     "soup = BeautifulSoup(res.text, \"xml\")\n",
     "\n",
     "birth_re = re.search(r'(Birth date(.*?)}})', soup.revisions.getText())\n",
     "birth_data = birth_re.group(0).split('|')\n",
     "birth_year = birth_data[2]\n",
     "birth_month = birth_data[3]\n",
     "birth_day = birth_data[4]\n",
     "\n",
     "death_re = re.search(r'(Death date(.*?)}})', soup.revisions.getText())\n",
     "death_data = death_re.group(0).split('|')\n",
     "death_year = death_data[2]\n",
     "death_month = death_data[3]\n",
     "death_day = death_data[4]"
    ],
    "metadata": {
     "collapsed": false
    }
   }
  }
 },
 "nbformat": 4,
 "nbformat_minor": 0
}